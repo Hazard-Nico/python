{
 "cells": [
  {
   "cell_type": "markdown",
   "metadata": {},
   "source": [
    "# Membuat Class Transaksi\n",
    "\n",
    "Fungsi yang akan dipasang ke dalam Class:\n",
    "1. add_item => menambah satu item ke dalam keranjang\n",
    "2. update_item => edit salah satu item di keranjang\n",
    "3. delete_item => menghapus salah satu item keranjang\n",
    "4. reset_transaction => menghapus seluruh isi keranjang\n",
    "5. check_order => mengecek dan print output isi keranjang\n",
    "\n",
    "Disini ada beberapa langkah yang akan dimasukkan menjadi Function di dalam Class:\n",
    "1. Membuat Class Transaction\n",
    "\n",
    "2. Membuat Function __init__\n",
    "    def __init__(self):\n",
    "        self.items = []\n",
    "\n",
    "3. Membuat function add_item(self, nama_item, jumlah_item, harga_per_item)\n",
    "    - nama_item => nama barang\n",
    "    - jumlah_item => jumlah per barang yang akan dimasukkan\n",
    "    - harga_per_item => harga barang\n",
    "    - Perlu menambahkan variabel Total Harga:\n",
    "        total_harga = jumlah_item * harga_per_item\n",
    "\n",
    "4. Membuat function update_item(self, nama_item, ...), ada 3 fungsi update yang akan dimasukkan\n",
    "    - update_item_nama(self, nama_item, new_nama) => mengganti nama barang, dan new_nama merupakan variabel argumen untuk memasukkan nama barang yang baru\n",
    "    - update_item_qty(self, nama_item, jumlah_item) => mengganti jumlah barang\n",
    "    - update_item_price(self, nama_item, harga_per_item) => mengganti harga barang\n",
    "\n",
    "5. Membuat function delete_item(self, nama_item)\n",
    "\n",
    "6. Membuat function reset_transaction(self), memakai fungsi .clear()\n",
    "\n",
    "7. Membuat function check_order()"
   ]
  },
  {
   "cell_type": "code",
   "execution_count": 7,
   "metadata": {},
   "outputs": [
    {
     "name": "stdout",
     "output_type": "stream",
     "text": [
      "<class 'type'>\n"
     ]
    }
   ],
   "source": [
    "from tabulate import tabulate\n",
    "\n",
    "class Transaction:\n",
    "    def __init__(self):\n",
    "        self.items = []\n",
    "        \n",
    "    def add_item(self, nama_item, jumlah_item, harga_per_item):\n",
    "        jumlah_harga = jumlah_item * harga_per_item\n",
    "        item = [nama_item, jumlah_item, harga_per_item, jumlah_harga]\n",
    "        self.items.append(item)\n",
    "        \n",
    "    def update_item_name(self, nama_item, new_nama):\n",
    "        for item in self.items:\n",
    "            if item[0] == nama_item:\n",
    "                item.pop(0)\n",
    "                item.insert(0, new_nama)\n",
    "    \n",
    "    def update_item_qty(self, nama_item, jumlah_item):\n",
    "        for item in self.items:\n",
    "            if item[0] == nama_item:\n",
    "                item.pop(3)\n",
    "                item.pop(1)\n",
    "                item.insert(1, jumlah_item)\n",
    "                jumlah_harga = jumlah_item * item[2]\n",
    "                item.insert(3, jumlah_harga)\n",
    "        \n",
    "    def update_item_price(self, nama_item, harga_per_item):\n",
    "        for item in self.items:\n",
    "            if item[0] == nama_item:\n",
    "                item.pop(3)\n",
    "                item.pop(2)\n",
    "                item.insert(2, harga_per_item)\n",
    "                jumlah_harga = harga_per_item * item[1]\n",
    "                item.insert(3, jumlah_harga)\n",
    "        \n",
    "    def delete_item(self, nama_item):\n",
    "        for item in self.items:\n",
    "            if item[0] == nama_item:\n",
    "                self.items.remove(item)\n",
    "        \n",
    "    def reset_transaction(self):\n",
    "        self.items.clear()\n",
    "        \n",
    "    def check_order(self):\n",
    "        head = [\"Item\", \"Jumlah item\", \"Harga/item\", \"Harga total\"]\n",
    "        print(tabulate(self.items, headers=head, tablefmt=\"grid\"))\n",
    "        \n",
    "    def total_price(self):\n",
    "        total_bayar = []\n",
    "        for item in self.items:\n",
    "            jumlah_harga_per_item = item[1] * item[2]\n",
    "            # item.append(jumlah_harga_per_item)\n",
    "            total_harga = 0\n",
    "            total_harga += jumlah_harga_per_item\n",
    "            total_bayar.append(total_harga)\n",
    "        total = sum(total_bayar)\n",
    "        return total\n",
    "    \n",
    "print(type(Transaction))"
   ]
  },
  {
   "cell_type": "markdown",
   "metadata": {},
   "source": [
    "## Membuat Input Belanja (Nama Item, Jumlah Item, Harga Per Item)"
   ]
  },
  {
   "cell_type": "code",
   "execution_count": 8,
   "metadata": {},
   "outputs": [
    {
     "name": "stdout",
     "output_type": "stream",
     "text": [
      "+--------+---------------+--------------+---------------+\n",
      "| Item   |   Jumlah item |   Harga/item |   Harga total |\n",
      "+========+===============+==============+===============+\n",
      "| Baju   |             2 |        10000 |         20000 |\n",
      "+--------+---------------+--------------+---------------+\n",
      "| Celana |             2 |        20000 |         40000 |\n",
      "+--------+---------------+--------------+---------------+\n",
      "| Sepatu |             2 |        30000 |         60000 |\n",
      "+--------+---------------+--------------+---------------+\n"
     ]
    },
    {
     "data": {
      "text/plain": [
       "120000"
      ]
     },
     "execution_count": 8,
     "metadata": {},
     "output_type": "execute_result"
    }
   ],
   "source": [
    "cart = Transaction()\n",
    "\n",
    "cart.add_item(\"Baju\", 2, 10000)\n",
    "cart.add_item(\"Celana\", 2, 20000)\n",
    "cart.add_item(\"Sepatu\", 2, 30000)\n",
    "# cart.total_price()\n",
    "cart.check_order()\n",
    "cart.total_price()\n"
   ]
  },
  {
   "cell_type": "markdown",
   "metadata": {},
   "source": [
    "## Mencoba Edit data sesuai Nama Item yang diinginkan"
   ]
  },
  {
   "cell_type": "code",
   "execution_count": 13,
   "metadata": {},
   "outputs": [
    {
     "name": "stdout",
     "output_type": "stream",
     "text": [
      "+--------+---------------+--------------+---------------+\n",
      "| Item   |   Jumlah item |   Harga/item |   Harga total |\n",
      "+========+===============+==============+===============+\n",
      "| Baju   |             2 |        10000 |         20000 |\n",
      "+--------+---------------+--------------+---------------+\n",
      "| Celana |             2 |       100000 |        200000 |\n",
      "+--------+---------------+--------------+---------------+\n",
      "| Sepatu |             2 |        30000 |         60000 |\n",
      "+--------+---------------+--------------+---------------+\n"
     ]
    },
    {
     "data": {
      "text/plain": [
       "280000"
      ]
     },
     "execution_count": 13,
     "metadata": {},
     "output_type": "execute_result"
    }
   ],
   "source": [
    "# Update Data sesuai nama Item yang diinginkan\n",
    "cart.update_item_price(\"Celana\", 100000)\n",
    "\n",
    "cart.check_order()\n",
    "cart.total_price()"
   ]
  },
  {
   "cell_type": "markdown",
   "metadata": {},
   "source": [
    "## Menghapus Item yang diinginkan\n",
    "\n",
    "Notes: Jika di launch kembali cell nya dengan item yang sama, maka akan menghasilkan Error!!!"
   ]
  },
  {
   "cell_type": "code",
   "execution_count": 16,
   "metadata": {},
   "outputs": [
    {
     "name": "stdout",
     "output_type": "stream",
     "text": [
      "+--------+---------------+--------------+---------------+\n",
      "| Item   |   Jumlah item |   Harga/item |   Harga total |\n",
      "+========+===============+==============+===============+\n",
      "| Sepatu |             2 |        30000 |         60000 |\n",
      "+--------+---------------+--------------+---------------+\n"
     ]
    },
    {
     "data": {
      "text/plain": [
       "60000"
      ]
     },
     "execution_count": 16,
     "metadata": {},
     "output_type": "execute_result"
    }
   ],
   "source": [
    "cart.delete_item(\"Celana\")\n",
    "\n",
    "cart.check_order()\n",
    "cart.total_price()"
   ]
  }
 ],
 "metadata": {
  "kernelspec": {
   "display_name": "Python 3",
   "language": "python",
   "name": "python3"
  },
  "language_info": {
   "codemirror_mode": {
    "name": "ipython",
    "version": 3
   },
   "file_extension": ".py",
   "mimetype": "text/x-python",
   "name": "python",
   "nbconvert_exporter": "python",
   "pygments_lexer": "ipython3",
   "version": "3.11.4"
  },
  "orig_nbformat": 4
 },
 "nbformat": 4,
 "nbformat_minor": 2
}
